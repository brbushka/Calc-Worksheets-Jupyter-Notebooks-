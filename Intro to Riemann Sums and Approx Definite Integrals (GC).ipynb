{
 "cells": [
  {
   "cell_type": "markdown",
   "id": "c89faed3",
   "metadata": {},
   "source": [
    "# <center> <span style='color:navy'>INTRO TO RIEMANN SUMS AND APPROXIMATING INTEGRALS</span> "
   ]
  },
  {
   "cell_type": "markdown",
   "id": "8853dbf7",
   "metadata": {},
   "source": [
    "One of the big tasks in Calculus is to find the area of a region that is bounded by the graphs of functions. In order to accomplish this task, we'll apply the 'divide and conquer' strategy once again. "
   ]
  },
  {
   "cell_type": "markdown",
   "id": "3b9f829d",
   "metadata": {},
   "source": [
    "<font size=\"4\"><span style='color:green'> <b>Example 1.</b></span></font> Let $R$ be the region bounded by the graph of $f(x)=1+x^2$ and the $x$-axis between $x=0$ and $x=10$. Estimate the area of the region $R$."
   ]
  },
  {
   "cell_type": "code",
   "execution_count": 9,
   "id": "983022c3",
   "metadata": {},
   "outputs": [],
   "source": [
    "#Import the necessary libraries \n",
    "import numpy as np\n",
    "import matplotlib.pyplot as plt\n",
    "from sympy import *\n",
    "import sympy as sp\n",
    "import ipywidgets as widgets"
   ]
  },
  {
   "cell_type": "code",
   "execution_count": 10,
   "id": "44bc3fff",
   "metadata": {},
   "outputs": [
    {
     "data": {
      "image/png": "[encoded data removed]",
      "text/plain": [
       "<Figure size 500x400 with 1 Axes>"
      ]
     },
     "metadata": {},
     "output_type": "display_data"
    }
   ],
   "source": [
    "#Define our function\n",
    "def f(x):\n",
    "    return 1+x**2\n",
    "\n",
    "#linspace takes 50 values from -1, up to 12 (but not including 12)\n",
    "#Curve\n",
    "x = np.linspace(-1, 12, 50)\n",
    "y = f(x)\n",
    "\n",
    "#linspace takes 50 values from 0, up to 10 (but not including 10)\n",
    "#Shading\n",
    "X = np.linspace(0, 10, 50)\n",
    "Y = f(X)\n",
    "\n",
    "#bounds on the interval of interest\n",
    "a=0\n",
    "b=10\n",
    "\n",
    "plt.figure(figsize=(5, 4))\n",
    "plt.xlim(-1, 12) #restricts the x-axis\n",
    "plt.ylim(-5, 115) #restricts the y axis\n",
    "plt.axhline(0, color='darkgray', linewidth=1)\n",
    "plt.axvline(0, color='darkgray', linewidth=1)\n",
    "plt.fill_between(X, Y, color='skyblue', alpha=0.3)\n",
    "plt.scatter(a, f(a), color='blue', label='Point (a, f(a))')\n",
    "plt.scatter(b, f(b), color='blue', label='Point (b, f(b))')\n",
    "plt.plot(x, y)\n",
    "plt.xlabel(\"x\")\n",
    "plt.ylabel(\"y\")\n",
    "plt.grid(True)\n",
    "plt.title(\"Illustrating the region R\")\n",
    "plt.show()"
   ]
  },
  {
   "cell_type": "markdown",
   "id": "1e13998a",
   "metadata": {},
   "source": [
    "To estimate the shaded area above, we start by subdividing the region R into smaller regions (at first rectangular), whose areas we can calculate. Adding up the areas of the individual rectangles gives us <b>an</b> estimate of the area of the region R (this sum is known as a <b>Riemann sum</b>).  "
   ]
  },
  {
   "cell_type": "code",
   "execution_count": 12,
   "id": "144748ad",
   "metadata": {},
   "outputs": [
    {
     "data": {
      "application/vnd.jupyter.widget-view+json": {
       "model_id": "b5ba31866c8e465c881fe423132a217d",
       "version_major": 2,
       "version_minor": 0
      },
      "text/plain": [
       "interactive(children=(IntSlider(value=13, description='n', max=25, min=1), Button(description='Run Interact', …"
      ]
     },
     "metadata": {},
     "output_type": "display_data"
    },
    {
     "name": "stdout",
     "output_type": "stream",
     "text": [
      "For comparison: Exact Area = 1030/3 ≈ 343.3333333333333\n"
     ]
    }
   ],
   "source": [
    "a=0\n",
    "b=10\n",
    "\n",
    "@widgets.interact_manual(n=(1, 25))\n",
    "def riemann_plot(n):\n",
    "    #a = 0 \n",
    "    #b = 10\n",
    "    #width=delta_x=length of subinterval\n",
    "    del_x=(b-a)/n\n",
    "    \n",
    "    #linspace in NumPy returns an array of evenly spaced values over a specified interval np.linspace(start,stop,num)\n",
    "    \n",
    "    #For plotting the rectangles\n",
    "    x_rec = np.linspace(a,b,n+1)\n",
    "    y_rec = f(x_rec)\n",
    "\n",
    "    #For plotting the curve\n",
    "    X_fn = np.linspace(a,b,100)\n",
    "    Y_fn = f(X_fn)\n",
    "\n",
    "    plt.figure(figsize=(16,5))\n",
    "    plt.subplot(1,3,1)\n",
    "    plt.plot(X_fn,Y_fn,'r')\n",
    "\n",
    "    #Left endpoints on each subinterval('Left Riemann Sum')\n",
    "    x_left = x_rec[:-1] \n",
    "    y_left = y_rec[:-1]\n",
    "    plt.plot(x_left,y_left,'b.',markersize=10)\n",
    "    plt.bar(x_left,y_left,width=del_x,alpha=0.2,align='edge',edgecolor='b', color='gray')\n",
    "    area = np.sum(y_left*(del_x))\n",
    "    plt.title('Left Riemann Sum, n = {0}, Area = {1:.2f}'.format(n, area))\n",
    "\n",
    "    #Midpoints of each subinterval('Midpoint Riemann Sum')\n",
    "    plt.subplot(1,3,2)\n",
    "    plt.plot(X_fn,Y_fn,'r')\n",
    "    x_mid = (x_rec[:-1] + x_rec[1:])/2\n",
    "    #print(x_rec)\n",
    "    #print(x_rec[:-1])\n",
    "    #print(x_rec[1:])\n",
    "    #print(x_mid)\n",
    "    y_mid = f(x_mid)\n",
    "    plt.plot(x_mid,y_mid,'b.',markersize=10)\n",
    "    plt.bar(x_mid,y_mid,width=del_x,alpha=0.2,edgecolor='b', color='gray')\n",
    "    #HERE\n",
    "    for i in range(len(x_mid)):\n",
    "        m = x_mid[i]\n",
    "        plt.plot([m, m], [0, y_mid[i]], color='gray', linestyle='--', alpha=0.5)\n",
    "    area = np.sum(y_mid*(del_x))\n",
    "    plt.title('Midpoint Riemann Sum, n = {0}, Area = {1:.2f}'.format(n, area))\n",
    "\n",
    "    #Right endpoints on each subinterval ('Right Riemann Sum')\n",
    "    plt.subplot(1,3,3)\n",
    "    plt.plot(X_fn,Y_fn,'r')\n",
    "    x_right = x_rec[1:] \n",
    "    y_right = y_rec[1:]\n",
    "    plt.plot(x_right,y_right,'b.',markersize=10)\n",
    "    plt.bar(x_left,y_right,width=del_x,alpha=0.2,align='edge',edgecolor='b', color='gray')\n",
    "    area = np.sum(y_right*(del_x))\n",
    "    plt.title('Right Riemann Sum, n = {0}, Area = {1:.2f}'.format(n, area))\n",
    "    plt.show()\n",
    "    \n",
    "    \n",
    "#-----------------------------------------   \n",
    "#Computing the exact area under f on [a,b]  \n",
    "\n",
    "#Define the function \n",
    "def f(x):\n",
    "    return 1+x**2\n",
    "\n",
    "#for sympy, we need to define x as a symbol\n",
    "x_sym=sp.symbols('x')\n",
    "f_sym=1+x_sym**2\n",
    "exact_area=sp.integrate(f_sym,(x_sym,a,b))\n",
    "print('For comparison: Exact Area =',exact_area,'≈',float(exact_area))\n"
   ]
  },
  {
   "cell_type": "markdown",
   "id": "afbc5cf1",
   "metadata": {},
   "source": [
    "In summary, we can estimate the area of the region $R$ that lies under the graph of a continuous function $f$ on $[a,b]$ by summing the areas of the approximating rectangles. Symbollically, we can write a Riemann sum as:\n",
    "\n",
    "<center>\n",
    "$\\text{Area of R} \\approx f(x_1*)\\Delta x + f(x_2*)\\Delta x +...+f(x_n*)\\Delta x = \\displaystyle{\\sum_{i=1}^n}{f(x_i*)\\Delta x}$,\n",
    "</center>\n",
    "\n",
    "where\n",
    "\n",
    "$n$ is the number of rectangles used,\n",
    "\n",
    "$x_1*, x_2*, ..., x_n*$, are <b>sample points</b> on each subinterval or $x_i*\\in [x_{i-1},x_i]$, where $i=1, 2, ..., n$\n",
    "\n",
    "$f(x_1*), f(x_2*), ..., f(x_n*)$ are the heights of the rectangles, and\n",
    "\n",
    "$\\Delta x = \\dfrac{b-a}{n}$ is the width of each of the subintervals (regular partition).\n",
    "\n",
    "Note: The product $f(x_i*)\\Delta x$ represents the area of the $i$-th rectangle.\n",
    "\n"
   ]
  },
  {
   "cell_type": "markdown",
   "id": "84a3ddfc",
   "metadata": {},
   "source": [
    "While the sample points on each subinterval can be arbitrary, we generrally choose the following (as we did above in the three figures):\n",
    "\n",
    "<ul> \n",
    "    <li><b>Left Riemann Sum</b> when $x_i*$ is the left endpoint of $[x_{i-1},x_i]$: $ x_i* = a+(i-1)\\Delta x $ </li>\n",
    "                                            \n",
    "</ul> \n",
    "\n",
    "<ul>\n",
    "    <li><b>Right Riemann Sum</b> when $x_i*$ is the right endpoint of $[x_{i-1},x_i]$:  $x_i* = a+ i\\Delta x$</li>\n",
    "</ul>\n",
    "<ul>\n",
    "    <li><b>Midpoint Riemann Sum</b> when $x_i*$ is the midpoint endpoint of $[x_{i-1},x_i]$:  $x_i* = a+\\left(i-\\frac{1}{2}\\right)\\Delta x$</li>\n",
    "</ul>"
   ]
  },
  {
   "cell_type": "markdown",
   "id": "0a2050a0",
   "metadata": {},
   "source": [
    "<font size=\"4\"><span style='color:green'> <b>Question 1.</b></span></font> Discuss whether the Riemann Sum is an overestimate, underestimate, or equal to the exact area under the curve in each of the three cases. \n",
    "\n",
    "Discuss the relationship between the accuracy of the approximation and the number of rectangles used to do the approximation.\n"
   ]
  },
  {
   "cell_type": "code",
   "execution_count": 13,
   "id": "6b59eb5a",
   "metadata": {},
   "outputs": [],
   "source": [
    "#Space left for answers "
   ]
  },
  {
   "cell_type": "markdown",
   "id": "b0b8a8a4",
   "metadata": {},
   "source": [
    "---"
   ]
  },
  {
   "cell_type": "markdown",
   "id": "9d85d67d",
   "metadata": {},
   "source": [
    "<font size=\"4\"><span style='color:green'> <b>Example 2.</b></span></font> Estimate the area under the graph of $F(x)=x+\\cos(2x)$ on $[0,10]$."
   ]
  },
  {
   "cell_type": "code",
   "execution_count": 15,
   "id": "15d044dd",
   "metadata": {},
   "outputs": [
    {
     "data": {
      "application/vnd.jupyter.widget-view+json": {
       "model_id": "828b1c12192343c7aab8356a4e74a40f",
       "version_major": 2,
       "version_minor": 0
      },
      "text/plain": [
       "interactive(children=(IntSlider(value=13, description='n', max=25, min=1), Button(description='Run Interact', …"
      ]
     },
     "metadata": {},
     "output_type": "display_data"
    },
    {
     "name": "stdout",
     "output_type": "stream",
     "text": [
      "Exact Area = sin(20)/2 + 50 ≈ 50.456472625363816\n"
     ]
    }
   ],
   "source": [
    "a = 0 \n",
    "b = 10\n",
    "\n",
    "@widgets.interact_manual(n=(1, 25))\n",
    "def riemann_plot(n):\n",
    "    #a = 0 \n",
    "    #b = 10\n",
    "    del_x=(b-a)/n\n",
    "\n",
    "    #delta_x=length of subinterval\n",
    "    #width = delta_x=(b-a)/n\n",
    "\n",
    "    #linspace in NumPy returns an array of evenly spaced values over a specified interval np.linspace(start,stop,num)\n",
    "    \n",
    "    #The rectangles\n",
    "    x = np.linspace(a,b,n+1)\n",
    "    y = F(x)\n",
    "\n",
    "    #The curve\n",
    "    X = np.linspace(a,b,100)\n",
    "    Y = F(X)\n",
    "    \n",
    "    #Shading the exact region\n",
    "    #XE = np.linspace(a,b,100)\n",
    "    #YE = F(XE)\n",
    "\n",
    "    plt.figure(figsize=(16,5))\n",
    "\n",
    "    plt.subplot(1,3,1)\n",
    "    plt.plot(X,Y,'r')\n",
    "\n",
    "    #Left endpoints on each subinterval\n",
    "    #plt.fill_between(XE, YE, color='yellow', alpha=0.3)\n",
    "    x_left = x[:-1] \n",
    "    y_left = y[:-1]\n",
    "    plt.plot(x_left,y_left,'b.',markersize=10)\n",
    "    plt.bar(x_left,y_left,width=del_x,alpha=0.2,align='edge',edgecolor='b', color='gray')\n",
    "    area = np.sum(y_left*(del_x))\n",
    "    plt.title('Left Riemann Sum, n = {0}, Area = {1:.2f}'.format(n, area))\n",
    "\n",
    "    #Midpoints of each subinterval\n",
    "    plt.subplot(1,3,2)\n",
    "    plt.plot(X,Y,'r')\n",
    "    x_mid = (x[:-1] + x[1:])/2\n",
    "    #print(x)\n",
    "    #print(x[:-1])\n",
    "    #print(x[1:])\n",
    "    #print(x_mid)\n",
    "    y_mid = F(x_mid)\n",
    "    plt.plot(x_mid,y_mid,'b.',markersize=10)\n",
    "    plt.bar(x_mid,y_mid,width=del_x,alpha=0.2,edgecolor='b', color='gray')\n",
    "    for i in range(len(x_mid)):\n",
    "        m = x_mid[i]\n",
    "        plt.plot([m, m], [0, y_mid[i]], color='gray', linestyle='--', alpha=0.5)\n",
    "    area = np.sum(y_mid*(del_x))\n",
    "    plt.title('Midpoint Riemann Sum, n = {0}, Area = {1:.2f}'.format(n, area))\n",
    "\n",
    "    #Right endpoints on each subinterval\n",
    "    plt.subplot(1,3,3)\n",
    "    plt.plot(X,Y,'r')\n",
    "    x_right = x[1:] \n",
    "    y_right = y[1:]\n",
    "    plt.plot(x_right,y_right,'b.',markersize=10)\n",
    "    plt.bar(x_left,y_right,width=del_x,alpha=0.2,align='edge',edgecolor='b', color='gray')\n",
    "    area = np.sum(y_right*(del_x))\n",
    "    plt.title('Right Riemann Sum, n = {0}, Area = {1:.2f}'.format(n, area))\n",
    "    plt.show()\n",
    "\n",
    "    \n",
    "#Define the function \n",
    "def F(x):\n",
    "    return x+np.cos(2*x)\n",
    "\n",
    "#Computing the exact area under f on [a,b]\n",
    "x_sym=sp.symbols('x')\n",
    "F_sym=x_sym+cos(2*x_sym)\n",
    "exact_area=sp.integrate(F_sym,(x_sym,a,b))\n",
    "print('Exact Area =',exact_area,'≈',float(exact_area))"
   ]
  },
  {
   "cell_type": "markdown",
   "id": "f65c1bec",
   "metadata": {},
   "source": [
    "The figures below overlay shading of the exact area that we are trying to approximate (yellow), with shading of the sum of the areas of the approximating rectangles (gray). "
   ]
  },
  {
   "cell_type": "code",
   "execution_count": 17,
   "id": "192e7639",
   "metadata": {},
   "outputs": [
    {
     "data": {
      "application/vnd.jupyter.widget-view+json": {
       "model_id": "0910bf6ed76343298af76c9e24775827",
       "version_major": 2,
       "version_minor": 0
      },
      "text/plain": [
       "interactive(children=(IntSlider(value=13, description='n', max=25, min=1), Button(description='Run Interact', …"
      ]
     },
     "metadata": {},
     "output_type": "display_data"
    },
    {
     "name": "stdout",
     "output_type": "stream",
     "text": [
      "Exact Area = sin(20)/2 + 50 ≈ 50.456472625363816\n"
     ]
    }
   ],
   "source": [
    "a = 0 \n",
    "b = 10\n",
    "\n",
    "@widgets.interact_manual(n=(1, 25))\n",
    "def riemann_plot(n):\n",
    "    #a = 0 \n",
    "    #b = 10\n",
    "    del_x=(b-a)/n\n",
    "\n",
    "    #delta_x=length of subinterval\n",
    "    #width = delta_x=(b-a)/n\n",
    "\n",
    "    #linspace in NumPy returns an array of evenly spaced values over a specified interval np.linspace(start,stop,num)\n",
    "    \n",
    "    #The rectangles\n",
    "    x = np.linspace(a,b,n+1)\n",
    "    y = F(x)\n",
    "\n",
    "    #The curve\n",
    "    X = np.linspace(a,b,100)\n",
    "    Y = F(X)\n",
    "    \n",
    "    #Shading the exact region\n",
    "    XE = np.linspace(a,b,100)\n",
    "    YE = F(XE)\n",
    "\n",
    "    plt.figure(figsize=(16,5))\n",
    "\n",
    "    plt.subplot(1,3,1)\n",
    "    plt.plot(X,Y,'r')\n",
    "\n",
    "    #Left endpoints on each subinterval\n",
    "    x_left = x[:-1] \n",
    "    y_left = y[:-1]\n",
    "    plt.plot(x_left,y_left,'b.',markersize=10)\n",
    "    plt.bar(x_left,y_left,width=del_x,alpha=0.2,align='edge',edgecolor='b', color='gray')\n",
    "    plt.fill_between(XE, YE, color='yellow', alpha=0.3) #shading exact region\n",
    "    area = np.sum(y_left*(del_x))\n",
    "    plt.title('Left Riemann Sum, n = {0}, Area = {1:.2f}'.format(n, area))\n",
    "\n",
    "    #Midpoints of each subinterval\n",
    "    plt.fill_between(XE, YE, color='gold', alpha=0.3) #shading exact region\n",
    "    plt.subplot(1,3,2)\n",
    "    plt.plot(X,Y,'r')\n",
    "    x_mid = (x[:-1] + x[1:])/2\n",
    "    #print(x)\n",
    "    #print(x[:-1])\n",
    "    #print(x[1:])\n",
    "    #print(x_mid)\n",
    "    y_mid = F(x_mid)\n",
    "    plt.fill_between(XE, YE, color='gold', alpha=0.3) #shading exact region\n",
    "    plt.plot(x_mid,y_mid,'b.',markersize=10)\n",
    "    plt.bar(x_mid,y_mid,width=del_x,alpha=0.2,edgecolor='b', color='gray')\n",
    "    for i in range(len(x_mid)):\n",
    "        m = x_mid[i]\n",
    "        plt.plot([m, m], [0, y_mid[i]], color='gray', linestyle='--', alpha=0.5)\n",
    "    area = np.sum(y_mid*(del_x))\n",
    "    plt.title('Midpoint Riemann Sum, n = {0}, Area = {1:.2f}'.format(n, area))\n",
    "\n",
    "    #Right endpoints on each subinterval\n",
    "    plt.subplot(1,3,3)\n",
    "    plt.plot(X,Y,'r')\n",
    "    x_right = x[1:] \n",
    "    y_right = y[1:]\n",
    "    plt.fill_between(XE, YE, color='gold', alpha=0.3) #shading exact region\n",
    "    plt.plot(x_right,y_right,'b.',markersize=10)\n",
    "    plt.bar(x_left,y_right,width=del_x,alpha=0.2,align='edge',edgecolor='b', color='gray')\n",
    "    area = np.sum(y_right*(del_x))\n",
    "    plt.title('Right Riemann Sum, n = {0}, Area = {1:.2f}'.format(n, area))\n",
    "    plt.show()\n",
    "\n",
    "    \n",
    "#Define the function \n",
    "def F(x):\n",
    "    return x+np.cos(2*x)\n",
    "\n",
    "#Computing the exact area under f on [a,b]\n",
    "x_sym=sp.symbols('x')\n",
    "F_sym=x_sym+cos(2*x_sym)\n",
    "exact_area=sp.integrate(F_sym,(x_sym,a,b))\n",
    "print('Exact Area =',exact_area,'≈',float(exact_area))"
   ]
  },
  {
   "cell_type": "markdown",
   "id": "3b53d127",
   "metadata": {},
   "source": [
    "<font size=\"4\"><span style='color:green'> <b>Question 2.</b></span></font>  Discuss whether each of the Riemann sums is an overestimate, underestimate, or equal to the exact area under the curve.\n",
    "\n",
    "Discuss the relationship between the accuracy of the approximation and the number of rectangles used to do the approximation."
   ]
  },
  {
   "cell_type": "code",
   "execution_count": 18,
   "id": "9f718f8b",
   "metadata": {},
   "outputs": [],
   "source": [
    "# Space for answers"
   ]
  },
  {
   "cell_type": "markdown",
   "id": "c6dba43f",
   "metadata": {},
   "source": [
    "---"
   ]
  },
  {
   "cell_type": "markdown",
   "id": "d7038089",
   "metadata": {},
   "source": [
    "If the function $f$ is not necessarily positive on $[a,b]$, then the Riemann sums give us an approximation of the <b>net area</b> (area above the $x$-axis - area below the $x$-axis). "
   ]
  },
  {
   "cell_type": "markdown",
   "id": "10c68bb4",
   "metadata": {},
   "source": [
    "---"
   ]
  },
  {
   "cell_type": "markdown",
   "id": "c9df73df",
   "metadata": {},
   "source": [
    "<font size=\"4\"><span style='color:green'> <b>Example 3.</b></span></font> Estimate the net area between the graph of $H(x)=\\sin(x)-\\frac{1}{2}$ and the $x$-axis on $[0,10]$."
   ]
  },
  {
   "cell_type": "code",
   "execution_count": 20,
   "id": "bd97cb47",
   "metadata": {},
   "outputs": [
    {
     "data": {
      "application/vnd.jupyter.widget-view+json": {
       "model_id": "e63e691c8a4d4ae988345f398e7c0df7",
       "version_major": 2,
       "version_minor": 0
      },
      "text/plain": [
       "interactive(children=(IntSlider(value=18, description='n', max=35, min=1), Button(description='Run Interact', …"
      ]
     },
     "metadata": {},
     "output_type": "display_data"
    },
    {
     "name": "stdout",
     "output_type": "stream",
     "text": [
      "Exact Area = -4.0 - cos(10) ≈ -3.1609284709235475\n"
     ]
    }
   ],
   "source": [
    "@widgets.interact_manual(n=(1, 35))\n",
    "def riemann_plot(n):\n",
    "    a = 0 \n",
    "    b = 10\n",
    "\n",
    "    #delta_x=length of subinterval\n",
    "    #width = del_x=(b-a)/n\n",
    "    del_x=(b-a)/n\n",
    "    #linspace in NumPy returns an array of evenly spaced values over a specified interval np.linspace(start,stop,num)\n",
    "    \n",
    "    #The rectangles\n",
    "    x = np.linspace(a,b,n+1)\n",
    "    y = g(x)\n",
    "\n",
    "    #The curve\n",
    "    X = np.linspace(a,b,100)\n",
    "    Y = g(X)\n",
    "\n",
    "    plt.figure(figsize=(16,5))\n",
    "\n",
    "    plt.subplot(1,3,1)\n",
    "    plt.plot(X,Y,'r')\n",
    "\n",
    "    #Left endpoints on each subinterval\n",
    "    x_left = x[:-1] \n",
    "    y_left = y[:-1]\n",
    "    plt.plot(x_left,y_left,'b.',markersize=10)\n",
    "    plt.bar(x_left,y_left,width=del_x,alpha=0.2,align='edge',edgecolor='b', color='gray')\n",
    "    area = np.sum(y_left*(del_x))\n",
    "    plt.title('Left Riemann Sum, n = {0}, Area = {1:.2f}'.format(n, area))\n",
    "\n",
    "    #Midpoints of each subinterval\n",
    "    plt.subplot(1,3,2)\n",
    "    plt.plot(X,Y,'r')\n",
    "    x_mid = (x[:-1] + x[1:])/2\n",
    "    #print(x)\n",
    "    #print(x[:-1])\n",
    "    #print(x[1:])\n",
    "    #print(x_mid)\n",
    "    y_mid = g(x_mid)\n",
    "    plt.plot(x_mid,y_mid,'b.',markersize=10)\n",
    "    plt.bar(x_mid,y_mid,width=del_x,alpha=0.2,edgecolor='b', color='gray')\n",
    "    for i in range(len(x_mid)):\n",
    "        m = x_mid[i]\n",
    "        plt.plot([m, m], [0, y_mid[i]], color='gray', linestyle='--', alpha=0.5)\n",
    "    area = np.sum(y_mid*(del_x))\n",
    "    plt.title('Midpoint Riemann Sum, n = {0}, Area = {1:.2f}'.format(n, area))\n",
    "\n",
    "    #Right endpoints on each subinterval\n",
    "    plt.subplot(1,3,3)\n",
    "    plt.plot(X,Y,'r')\n",
    "    x_right = x[1:] \n",
    "    y_right = y[1:]\n",
    "    plt.plot(x_right,y_right,'b.',markersize=10)\n",
    "    plt.bar(x_left,y_right,width=del_x,alpha=0.2,align='edge',edgecolor='b', color='gray')\n",
    "    area = np.sum(y_right*(del_x))\n",
    "    plt.title('Right Riemann Sum, n = {0}, Area = {1:.2f}'.format(n, area))\n",
    "    plt.show()\n",
    "\n",
    "    \n",
    "#Define the function \n",
    "def g(x):\n",
    "    return np.sin(x)-1/2\n",
    "\n",
    "#Computing the exact area under f on [a,b]\n",
    "x_sym=sp.symbols('x')\n",
    "g_sym=sin(x_sym)-1/2\n",
    "exact_area=sp.integrate(g_sym,(x_sym,a,b))\n",
    "print('Exact Area =',exact_area,'≈',float(exact_area))\n"
   ]
  },
  {
   "cell_type": "markdown",
   "id": "eec0bb4f",
   "metadata": {},
   "source": [
    "## <center> <span style='color:navy'>TRAPEZOIDAL RULE</span> "
   ]
  },
  {
   "cell_type": "markdown",
   "id": "af820cb2",
   "metadata": {},
   "source": [
    "Another way to approximate the area is to use trapezoids, rather than rectangles. The formula for the Trapezoidal Approximation is:"
   ]
  },
  {
   "cell_type": "markdown",
   "id": "b15c55f2",
   "metadata": {},
   "source": [
    "<div style=\"background-color:lightgray\">\n",
    "<b>Trapezoidal Approximation:</b>    \n",
    "$$ \\approx \\dfrac{b - a}{2} \\dfrac{ \\left[f(a) + f(b)] + (f(a + Δx) + f(a + 2Δx) + ... + f(a + (n - 1)Δx)\\right]}{2}$$"
   ]
  },
  {
   "cell_type": "code",
   "execution_count": 21,
   "id": "5d5f89d1",
   "metadata": {},
   "outputs": [
    {
     "data": {
      "application/vnd.jupyter.widget-view+json": {
       "model_id": "d45177c9563741ab8482bbae2817a653",
       "version_major": 2,
       "version_minor": 0
      },
      "text/plain": [
       "interactive(children=(IntSlider(value=13, description='n', max=25, min=1), Button(description='Run Interact', …"
      ]
     },
     "metadata": {},
     "output_type": "display_data"
    },
    {
     "name": "stdout",
     "output_type": "stream",
     "text": [
      "Exact Area = sin(20)/2 + 50 ≈ 50.456472625363816\n"
     ]
    }
   ],
   "source": [
    "import matplotlib.patches as patches\n",
    "\n",
    "a=0\n",
    "b=10\n",
    "\n",
    "@widgets.interact_manual(n=(1, 25))\n",
    "def riemann_plot(n):\n",
    "    \n",
    "    #The rectangles\n",
    "    x = np.linspace(a,b,n+1)\n",
    "    y = f(x)\n",
    "\n",
    "    #The curve\n",
    "    X = np.linspace(a,b,100)\n",
    "    Y = f(X)\n",
    "\n",
    "    #width\n",
    "    del_x = (b - a) / n\n",
    "    \n",
    "    fig = plt.figure(figsize=(14,9))\n",
    "    plt.subplot(1,1,1)\n",
    "   \n",
    "\n",
    "    #Left endpoints on each subinterval\n",
    "    x_left = x[:-1] \n",
    "    y_left = y[:-1]\n",
    "    y_right = y[1:]\n",
    "    \n",
    "    \n",
    "    plt.plot(x_left,y_left,'b.',markersize=10)\n",
    "    plt.plot(X,Y,'r')\n",
    "    \n",
    "    for i, xl in enumerate(x_left):\n",
    "\n",
    "        # Parallelogram\n",
    "        xi = [xl, xl + del_x, xl + del_x, xl]\n",
    "        yi = [0.0, 0.0, y[i+1], y[i]]\n",
    "\n",
    "        ax = fig.axes[0]\n",
    "        ax.add_patch(\n",
    "            ax.add_patch(patches.Polygon(xy=list(zip(xi,yi)),\n",
    "                                         fill=True,\n",
    "                                         facecolor='lightgray',\n",
    "                                         alpha=0.5,\n",
    "                                         edgecolor='b'))\n",
    "        )\n",
    "    \n",
    "    #plt.bar(x_left,y_left,width=dx,alpha=0.2,align='edge',edgecolor='b', color='gray')\n",
    "    area = del_x*np.sum((y_left + y_right)/2.0)\n",
    "    plt.title('Trapezoid Rule Sum, n = {0}, Area = {1:.2f}'.format(n, area))\n",
    "    plt.show()\n",
    "\n",
    "    \n",
    "#Define the function \n",
    "def f(x):\n",
    "    return x+np.cos(2*x)\n",
    "\n",
    "#Computing the exact area under f on [a,b]\n",
    "x_sym=sp.symbols('x')\n",
    "f_sym=x_sym+cos(2*x_sym)\n",
    "exact_area=sp.integrate(f_sym,(x_sym,a,b))\n",
    "print('Exact Area =',exact_area,'≈',float(exact_area))\n"
   ]
  },
  {
   "cell_type": "markdown",
   "id": "fc15eada",
   "metadata": {},
   "source": [
    "<font size=\"4\"><span style='color:green'> <b>Question.</b></span></font> When does the Trapezoidal Rule give us an overestimate and when does it give us an underestimate? "
   ]
  },
  {
   "cell_type": "code",
   "execution_count": null,
   "id": "b9c7845a",
   "metadata": {},
   "outputs": [],
   "source": []
  },
  {
   "cell_type": "code",
   "execution_count": null,
   "id": "779439ce",
   "metadata": {},
   "outputs": [],
   "source": []
  }
 ],
 "metadata": {
  "kernelspec": {
   "display_name": "Python 3 (ipykernel)",
   "language": "python",
   "name": "python3"
  },
  "language_info": {
   "codemirror_mode": {
    "name": "ipython",
    "version": 3
   },
   "file_extension": ".py",
   "mimetype": "text/x-python",
   "name": "python",
   "nbconvert_exporter": "python",
   "pygments_lexer": "ipython3",
   "version": "3.11.4"
  }
 },
 "nbformat": 4,
 "nbformat_minor": 5
}
